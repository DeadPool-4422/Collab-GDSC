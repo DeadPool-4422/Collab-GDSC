{
  "nbformat": 4,
  "nbformat_minor": 0,
  "metadata": {
    "colab": {
      "provenance": [],
      "gpuType": "T4",
      "authorship_tag": "ABX9TyOLGnB+kOwc5zSZfXGKHuDm",
      "include_colab_link": true
    },
    "kernelspec": {
      "name": "python3",
      "display_name": "Python 3"
    },
    "language_info": {
      "name": "python"
    },
    "accelerator": "GPU"
  },
  "cells": [
    {
      "cell_type": "markdown",
      "metadata": {
        "id": "view-in-github",
        "colab_type": "text"
      },
      "source": [
        "<a href=\"https://colab.research.google.com/github/DeadPool-4422/Collab-GDSC/blob/main/Text-To-Sppech.ipynb\" target=\"_parent\"><img src=\"https://colab.research.google.com/assets/colab-badge.svg\" alt=\"Open In Colab\"/></a>"
      ]
    },
    {
      "cell_type": "code",
      "execution_count": null,
      "metadata": {
        "id": "TI4kdwnF8X3F"
      },
      "outputs": [],
      "source": [
        "# prompt: pip install git+https://github.com/suno-ai/bark.git and also ipython\n",
        "\n",
        "!pip install git+https://github.com/suno-ai/bark.git\n",
        "!pip install ipython\n"
      ]
    },
    {
      "cell_type": "code",
      "source": [
        "from bark import SAMPLE_RATE, generate_audio, preload_models"
      ],
      "metadata": {
        "id": "RLQ4tudqCLTa"
      },
      "execution_count": null,
      "outputs": []
    },
    {
      "cell_type": "code",
      "source": [
        "from scipy.io.wavfile import write as write_wav"
      ],
      "metadata": {
        "id": "42tqt_bxDwy0"
      },
      "execution_count": null,
      "outputs": []
    },
    {
      "cell_type": "code",
      "source": [
        "from IPython.display import Audio"
      ],
      "metadata": {
        "id": "0dOXsMd6D4v0"
      },
      "execution_count": null,
      "outputs": []
    },
    {
      "cell_type": "code",
      "source": [
        "# download and load all models\n",
        "preload_models()"
      ],
      "metadata": {
        "id": "CLscHEWwD74G"
      },
      "execution_count": null,
      "outputs": []
    },
    {
      "cell_type": "code",
      "source": [
        "# generate audio from text\n",
        "text_prompt = \"\"\"\n",
        "Hi , My name is Sid and i'm Happy. [laughs]\n",
        "but i also like making video games.\n",
        "\"\"\"\n",
        "audio_array = generate_audio(text_prompt, history_prompt=\"v2/en_speaker_1\")\n",
        "\n",
        "# save audio to disk\n",
        "write_wav(\"bark_generation.wav\", SAMPLE_RATE, audio_array)\n",
        "\n",
        "# play text in notebook\n",
        "Audio(audio_array, rate=SAMPLE_RATE)"
      ],
      "metadata": {
        "id": "hk1-Sv5FD_gW"
      },
      "execution_count": null,
      "outputs": []
    }
  ]
}
